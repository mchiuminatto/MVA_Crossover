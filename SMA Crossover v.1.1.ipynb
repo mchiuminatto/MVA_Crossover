{
 "cells": [
  {
   "cell_type": "markdown",
   "metadata": {
    "tags": []
   },
   "source": [
    "# Simple Moving Average Crossover Strategy"
   ]
  },
  {
   "cell_type": "markdown",
   "metadata": {},
   "source": [
    "Author: Marcello Chiuminatto"
   ]
  },
  {
   "cell_type": "markdown",
   "metadata": {},
   "source": [
    "## Overview"
   ]
  },
  {
   "cell_type": "markdown",
   "metadata": {},
   "source": [
    "In the context of FOREX trading, in the commitment of finding profitable trading strategies, you will find in books, articles, papers, web sites and maybe from your own inspiration, strategies that shows positive profits, being a measure of this the cumulative profit over a period of time. Well, that is not enough unfortunately, because does not necessarily indicates consistency in the profits.\n",
    "\n",
    "Would be profit average (expected profit) be a good indicator of profits consistency?. The answer is not straight forward as expected: not necessarily. Why?and the answer to this is the central concept of this research: Outliers. Outliers will distort the reading of cumulative profits ans expected profits.\n",
    "\n",
    "Consider the following example:\n",
    "\n",
    "Let's define a strategy S, from which we get a sample of 50 trades whose profits are listed below:\n",
    "\n",
    "|        |Trades | Profit/trade[pips] |Total Profit[pips]|\n",
    "|--------| ------|--------------------|------------------|\n",
    "|        |  25   |   -5.0             |        -125.0    |    \n",
    "|        |  24   |   2.0              |          48.0    |\n",
    "|        |  1    |  200.0             |         200.0    |\n",
    "|--------|-------|--------------------|-------------------\n",
    "| Total  |  50   |                    |         123.0    |\n",
    "| mean   |       |                    |         2.5      |\n",
    "| median |       |                    |         -1.5     |\n",
    "\n",
    "\n",
    "\n",
    "Total profit and average profit are positive, but clearly this is strongly influenced by 200 pip trade. Pay close attention to median though, is telling something about this case.\n",
    "\n",
    "Based on a real but simple trading strategy, how outliers impacts mean and total profits, but median"
   ]
  },
  {
   "cell_type": "markdown",
   "metadata": {},
   "source": [
    "## Strategy Definition"
   ]
  },
  {
   "attachments": {
    "image.png": {
     "image/png": "[encoded data removed]"
    }
   },
   "cell_type": "markdown",
   "metadata": {},
   "source": [
    "This strategy is one of the simplest trend following FOREX trading strategy.\n",
    "\n",
    "Is defined as follows:\n",
    "\n",
    "### Use three simple moving averages 10, 25 and 50 periods.</b>\n",
    "\n",
    "What is a **Simple Moving Average (SMA)** of $n$ periods?\n",
    "\n",
    "It is the average of the last $n$ available price periods. Generally is calculated on close price (which is the case for this research), but can also be calculated on open, high, low, typical price etc.)\n",
    "\n",
    "Mathematically:\n",
    "\n",
    "$SMA(close;n)=\\frac{1}{n}\\sum_{i=t-n+1}^{i=0} close_i$\n",
    "\n",
    "\n",
    "*Simple moving average on close parametrized with n (periods)*\n",
    "\n",
    "Where:\n",
    "\n",
    "- $n$ Number of periods\n",
    "- $close_i$: close price at i-th period\n",
    "\n",
    "\n",
    "We represent the moving averages of 10, 25 and 50 periods by:  $SMA_{10}$, $SMA_{25}$, $SMA_{50}$ respectively.\n",
    "\n",
    "### Long entry/exit rules\n",
    "\n",
    " **Entry**<br><br>\n",
    "  Enter long when close cross above $SMA_{10}$ and $SMA_{10}$ is above $SMA_{25}$ and $SMA_{25}$ is above $SMA_{50}$\n",
    "  \n",
    "  Mathematically:\n",
    "  \n",
    "  Enter long when the following two conditions are true\n",
    "  \n",
    "  1. $close_{t-1}<SMA_{10} \\land close_t > SMA_{10}$\n",
    "  2. $SMA_{50} < SMA_{25} < SMA_{10}$\n",
    " \n",
    "  **Exit**<br><br> \n",
    "    Exit a long position when $SMA_{10}$ cross below $SMA_{25}$\n",
    "\n",
    "    Mathematically\n",
    "\n",
    "    Exit when\n",
    "\n",
    "    1. $SMA_{10}<SMA_{25}$\n",
    "\n",
    "\n",
    "Example\n",
    "\n",
    "\n",
    "\n",
    "![image.png](attachment:image.png)"
   ]
  },
  {
   "cell_type": "markdown",
   "metadata": {},
   "source": [
    "## Strategy Back-testing"
   ]
  },
  {
   "cell_type": "markdown",
   "metadata": {},
   "source": [
    "Strategy back-testing is in essence test or run the strategy on historic data, \"hoping\" that past behavior will repeat inf future, which is not necessarily the case. It will depend on the data and the features used in the strategy an back-testing techniques used, but this discussion is out of the scope of this research."
   ]
  },
  {
   "cell_type": "markdown",
   "metadata": {},
   "source": [
    "### Imports"
   ]
  },
  {
   "cell_type": "code",
   "execution_count": 1,
   "metadata": {
    "ExecuteTime": {
     "end_time": "2022-03-25T21:35:37.039990Z",
     "start_time": "2022-03-25T21:35:34.620802Z"
    }
   },
   "outputs": [],
   "source": [
    "import pandas as pd\n",
    "import numpy as np\n",
    "import talib as ta\n",
    "\n",
    "import sys\n",
    "\n",
    "try:\n",
    "    import mplfinance as mpf\n",
    "except ImportError:\n",
    "    %pip install mplfinance\n",
    "    import mplfinance as mpf\n",
    "    \n",
    "\n",
    "try:\n",
    "    import yfinance as yf\n",
    "except ImportError:\n",
    "    %pip install yfinance\n",
    "    import yfinance as yf\n",
    "    \n",
    "\n",
    "import matplotlib.pyplot as plt\n",
    "import seaborn as sns\n",
    "sns.set_theme(style=\"whitegrid\")"
   ]
  },
  {
   "cell_type": "markdown",
   "metadata": {},
   "source": [
    "### Global Variables"
   ]
  },
  {
   "cell_type": "code",
   "execution_count": null,
   "metadata": {
    "ExecuteTime": {
     "end_time": "2022-03-25T21:35:37.055992Z",
     "start_time": "2022-03-25T21:35:37.042991Z"
    }
   },
   "outputs": [],
   "source": [
    "SMA_fast = 10\n",
    "SMA_med = 25\n",
    "SMA_slow = 50\n",
    "\n",
    "COL_f = f'SMA_{SMA_fast}'\n",
    "COL_m = f'SMA_{SMA_med}'\n",
    "COL_s = f'SMA_{SMA_slow}'\n",
    "\n",
    "PLOT_FROM = 2000\n",
    "PLOT_TO = 2200\n",
    "\n",
    "SYMBOL='EURUSD=X'\n",
    "\n",
    "DIGITS = 4  # digits where the pip change is counted\n",
    "if 'JPY' in SYMBOL:\n",
    "    DIGITS=2\n",
    "    \n",
    "PIP_FACTOR = 10**DIGITS  # factor to convert from points change to pip change\n",
    "\n",
    "TRADE_COST = 0.5  # estimated spread + commission per trade\n"
   ]
  },
  {
   "cell_type": "markdown",
   "metadata": {},
   "source": [
    "### Load Data"
   ]
  },
  {
   "cell_type": "code",
   "execution_count": null,
   "metadata": {
    "ExecuteTime": {
     "end_time": "2022-03-25T21:35:37.198004Z",
     "start_time": "2022-03-25T21:35:37.059994Z"
    }
   },
   "outputs": [],
   "source": [
    "df = pd.read_csv('EURUSD_Hourly_Bid_2015.01.01_2021.11.24.csv')\n",
    "df['Time (UTC)'] = pd.to_datetime(df['Time (UTC)']) \n",
    "df.set_index('Time (UTC)', inplace=True)\n",
    "df.head()"
   ]
  },
  {
   "cell_type": "code",
   "execution_count": null,
   "metadata": {
    "ExecuteTime": {
     "end_time": "2022-03-25T21:35:37.214005Z",
     "start_time": "2022-03-25T21:35:37.201005Z"
    }
   },
   "outputs": [],
   "source": [
    "# Downlaod data from yahoo finance using yfinance library\n",
    "# Uncomment of you want to try different symbols\n",
    "\n",
    "# df = yf.download(SYMBOL, \n",
    "#                       start='2020-01-01', \n",
    "#                       end='2021-12-31', \n",
    "#                       interval='1h',\n",
    "#                       progress=False)\n",
    "# df.head()"
   ]
  },
  {
   "cell_type": "code",
   "execution_count": null,
   "metadata": {
    "ExecuteTime": {
     "end_time": "2022-03-25T21:35:37.660041Z",
     "start_time": "2022-03-25T21:35:37.217006Z"
    }
   },
   "outputs": [],
   "source": [
    "print('Records ', df.shape[0])\n",
    "mpf.plot(df[PLOT_FROM:PLOT_TO],\n",
    "         volume=False, \n",
    "         type='hollow_and_filled', \n",
    "         tight_layout=True, \n",
    "         style='yahoo', \n",
    "         figratio=(14,5),\n",
    "         title=SYMBOL)"
   ]
  },
  {
   "cell_type": "markdown",
   "metadata": {},
   "source": [
    "### Feature Calculation"
   ]
  },
  {
   "cell_type": "markdown",
   "metadata": {},
   "source": [
    "Calculate $SMA_10$, $SMA_25$ and $SMA_50$ using pandas rolling windows"
   ]
  },
  {
   "cell_type": "code",
   "execution_count": null,
   "metadata": {
    "ExecuteTime": {
     "end_time": "2022-03-25T21:35:37.692043Z",
     "start_time": "2022-03-25T21:35:37.662040Z"
    }
   },
   "outputs": [],
   "source": [
    "df[COL_f] = df['Close'].rolling(SMA_fast).mean()\n",
    "df[COL_m] = df['Close'].rolling(SMA_med).mean()\n",
    "df[COL_s] = df['Close'].rolling(SMA_slow).mean()\n",
    "df.dropna(inplace=True)"
   ]
  },
  {
   "cell_type": "code",
   "execution_count": null,
   "metadata": {
    "ExecuteTime": {
     "end_time": "2022-03-25T21:35:37.708046Z",
     "start_time": "2022-03-25T21:35:37.695044Z"
    }
   },
   "outputs": [],
   "source": [
    "ap0 = [ mpf.make_addplot(df[PLOT_FROM:PLOT_TO][COL_f],color='red'),  # uses panel 0 by default\n",
    "        mpf.make_addplot(df[PLOT_FROM:PLOT_TO][COL_m],color='orange'),  # uses panel 0 by default\n",
    "       mpf.make_addplot(df[PLOT_FROM:PLOT_TO][COL_s],color='green')]"
   ]
  },
  {
   "cell_type": "code",
   "execution_count": null,
   "metadata": {
    "ExecuteTime": {
     "end_time": "2022-03-25T21:35:38.197083Z",
     "start_time": "2022-03-25T21:35:37.713046Z"
    }
   },
   "outputs": [],
   "source": [
    "mpf.plot(df[PLOT_FROM:PLOT_TO],\n",
    "         volume=False, \n",
    "         type='hollow_and_filled', \n",
    "         tight_layout=True, \n",
    "         style='yahoo', \n",
    "         figratio=(14,5), addplot=ap0, title=f'{SYMBOL} / {COL_f} - {COL_m} - {COL_s}')"
   ]
  },
  {
   "cell_type": "markdown",
   "metadata": {},
   "source": [
    "### Strategy Back-Testing"
   ]
  },
  {
   "cell_type": "markdown",
   "metadata": {},
   "source": [
    "#### Entry and Exit Logic"
   ]
  },
  {
   "attachments": {
    "image-3.png": {
     "image/png": "[encoded data removed]"
    }
   },
   "cell_type": "markdown",
   "metadata": {},
   "source": [
    "**How to mark entry and exit signals?**\n",
    "\n",
    "You need to be careful marking entry and exit events. Since a signal is marked once the period or bar is closed, you MUST mark the entry event right at the opening of next bar, that will be the entry bar. \n",
    "\n",
    "\n",
    "<b>Cross over condition signal</b>\n",
    "\n",
    "Mathematically the signal is calculated as follows:\n",
    "\n",
    "The signal corresponds when the last closes bar cross the fast SMA, along with fast SMA being above med SMA and med SMA being above the slow SMA.\n",
    "\n",
    "\n",
    "$signal_i = (open_{i} < SMA_{fast, i} < close_{i})  \\land (SMA_{slow, i} < SMA_{med, i} < SMA_{fast, i})$\n",
    "\n",
    "Where:\n",
    "\n",
    "* $Close_{i}$: Last closed bar close price.\n",
    "* $Open_{i}$: Last closed bar open price.\n",
    "* $SMA_{fast, i}, SMA_{med, i}, SMA_{slow, i}$: SMA fast, med and slow respectively, calculated at the last bar close.\n",
    "\n",
    "\n",
    "<b>Entry condition</b>\n",
    "\n",
    "The entry condition is risen right at the opening of current bar, if signal was risen for the last closed bar.\n",
    "\n",
    "\n",
    "$entry_i=\\begin{cases}\n",
    "    1 \\text{ if }signal_{i-1} = True\\\\\n",
    "    \\emptyset \\text{ otherwise}\n",
    "\\end{cases}\n",
    "$\n",
    "\n",
    "Where:\n",
    "\n",
    "* $entry_i$: Entry condition for current bar.\n",
    "* $signal_{i-1}:$ Signal at last closed bar.\n",
    "\n",
    "\n",
    "<b>Exit</b>\n",
    "\n",
    "The exit signal is given when the close price crosses below the med SMA, therefore, following the entry signal/entry condition logic, the exit signal is risen right at the opening of current bar.\n",
    "\n",
    "<b>Exit Signal</b>\n",
    "\n",
    "$x\\_signal_i = close_{i} < SMA_{med, i} < open_i$\n",
    "\n",
    "<b>Exit Signal</b>\n",
    "\n",
    "$exit_i = \\begin{cases}\n",
    "    -1 \\text{ if }x\\_signal_{i-1} = True \\\\\n",
    "    \\emptyset \\text{ otherwise}\n",
    "\\end{cases}\n",
    "$\n",
    "\n",
    "In the example below:\n",
    "\n",
    "\n",
    "![image-3.png](attachment:image-3.png)\t\n",
    "\n",
    "- $t=2$: entry signal risen at the close of 2nd bar.\n",
    "- $t=3$: entry condition is met, so a long trade is open right at the opening of the 3rd bar.\n",
    "- $t=6$: exit signal is risen at the close of 6th bar.\n",
    "- $t=7$: exit condition is met, so the trade is closed right at the opening of the 7th bar.\n"
   ]
  },
  {
   "cell_type": "markdown",
   "metadata": {},
   "source": [
    "#### Mark Entry and Exit Signal"
   ]
  },
  {
   "cell_type": "code",
   "execution_count": null,
   "metadata": {
    "ExecuteTime": {
     "end_time": "2022-03-25T21:35:38.244086Z",
     "start_time": "2022-03-25T21:35:38.201084Z"
    }
   },
   "outputs": [],
   "source": [
    "df['trade'] = np.nan\n",
    "df['signal'] = np.nan\n",
    "df['entry'] = np.nan\n",
    "df['exit'] = np.nan\n",
    "\n",
    "# mark entry signal\n",
    "mask_signal =    (df['Close'] > df[COL_f]) & (df['Open'] < df[COL_f]) & \\\n",
    "                 (df[COL_f] > df[COL_m]) &  (df[COL_m] > df[COL_s]) # SMA positioning\n",
    "df.loc[mask_signal, 'signal'] = 1\n",
    "df.loc[(df['signal']==1), 'plot_signal'] = df[COL_s] - 0.0010\n",
    "\n",
    "# mark exit signal\n",
    "mask_x_signal = (df['Close'] < df[COL_m]) & (df['Open'] >  df[COL_m])\n",
    "df.loc[mask_x_signal, 'signal'] = -1 \n",
    "df.loc[(df['signal']==-1), 'x_plot_signal'] = df['High'] + 0.0010\n",
    "\n",
    "\n",
    "\n",
    "\"\"\"\n",
    "mask_entry = (mask_cxo.shift(1) == True) & (mask_cxo.shift(2) == False) & (df['Close'] > df[COL_f])\n",
    "\n",
    "df.loc[mask_entry, 'trade'] = range(1, len(df[mask_entry])+1)\n",
    "\n",
    "df.loc[(df['trade']>=1), 'plot_entry'] = df[COL_s] - 0.0010\n",
    "\n",
    "mask_exit = ( df['Close'].shift(1) < df[COL_m].shift(1)) \n",
    "df.loc[mask_exit, 'trade'] = -1\n",
    "df.loc[(df['trade']==-1), 'plot_exit'] = df[COL_s] - 0.0010\n",
    "\"\"\""
   ]
  },
  {
   "cell_type": "code",
   "execution_count": null,
   "metadata": {
    "ExecuteTime": {
     "end_time": "2022-03-25T21:35:38.657120Z",
     "start_time": "2022-03-25T21:35:38.247088Z"
    }
   },
   "outputs": [],
   "source": [
    "ap4 = [ mpf.make_addplot(df[PLOT_FROM:PLOT_TO][COL_f],color='red'),  # uses panel 0 by default\n",
    "        mpf.make_addplot(df[PLOT_FROM:PLOT_TO][COL_m],color='orange'),  # uses panel 0 by default\n",
    "        mpf.make_addplot(df[PLOT_FROM:PLOT_TO][COL_s],color='green'),\n",
    "        mpf.make_addplot(df[PLOT_FROM:PLOT_TO]['plot_signal'],type='scatter', marker=6, color=\"r\"),\n",
    "        mpf.make_addplot(df[PLOT_FROM:PLOT_TO]['x_plot_signal'],type='scatter', marker=7, color=\"b\"),\n",
    "\n",
    "      ]\n",
    "\n",
    "mpf.plot(df[PLOT_FROM:PLOT_TO],\n",
    "         volume=False, \n",
    "         type='hollow_and_filled', \n",
    "         tight_layout=True, \n",
    "         style='yahoo', \n",
    "         figratio=(14,5), addplot=ap4, title=f'{SYMBOL}/Trade Entry-Exit Events')"
   ]
  },
  {
   "cell_type": "markdown",
   "metadata": {},
   "source": [
    "#### Mark Entry/Exit condition"
   ]
  },
  {
   "cell_type": "code",
   "execution_count": null,
   "metadata": {
    "ExecuteTime": {
     "end_time": "2022-03-25T21:35:38.688121Z",
     "start_time": "2022-03-25T21:35:38.660120Z"
    }
   },
   "outputs": [],
   "source": [
    "# mark entry/exit condition\n",
    "\n",
    "df['EN_EX_cond'] = df['signal'].shift(1)\n",
    "df[['signal', 'EN_EX_cond']][2188:2200]"
   ]
  },
  {
   "cell_type": "markdown",
   "metadata": {
    "ExecuteTime": {
     "end_time": "2021-11-28T19:43:21.105497Z",
     "start_time": "2021-11-28T19:43:21.095498Z"
    }
   },
   "source": [
    "#### Mark Trades"
   ]
  },
  {
   "cell_type": "code",
   "execution_count": null,
   "metadata": {
    "ExecuteTime": {
     "end_time": "2022-03-25T21:35:38.720126Z",
     "start_time": "2022-03-25T21:35:38.691124Z"
    }
   },
   "outputs": [],
   "source": [
    "# mark trades periods\n",
    "df['trade'] = df['EN_EX_cond']\n",
    "df['trade'].ffill(inplace=True)\n",
    "df['trade'] =  df['trade'].replace(-1, np.nan)\n",
    "mask_trade = df['trade'].isna()\n",
    "df.loc[~mask_trade, 'plot_trade'] = df.loc[~mask_trade][COL_s] - 0.0005\n",
    "\n",
    "# generate trades id\n",
    "mask_trade_start = (df['trade'] == 1 ) & (df['trade'].shift(1).isna())  # marks trade start\n",
    "# df['trade_id'] = 0\n",
    "df.loc[mask_trade_start, 'trade_id'] = range(1, len(df[mask_trade_start])+1)\n",
    "df['trade_id'].ffill(inplace=True)\n",
    "df.loc[df['trade'].isna(), 'trade_id'] = np.nan\n"
   ]
  },
  {
   "cell_type": "code",
   "execution_count": null,
   "metadata": {
    "ExecuteTime": {
     "end_time": "2022-03-25T21:35:38.752127Z",
     "start_time": "2022-03-25T21:35:38.723125Z"
    }
   },
   "outputs": [],
   "source": [
    "df[['trade', 'trade_id']][2190:2200]"
   ]
  },
  {
   "cell_type": "code",
   "execution_count": null,
   "metadata": {
    "ExecuteTime": {
     "end_time": "2022-03-25T21:35:39.165161Z",
     "start_time": "2022-03-25T21:35:38.755128Z"
    }
   },
   "outputs": [],
   "source": [
    "ap4 = [ mpf.make_addplot(df[PLOT_FROM:PLOT_TO][COL_f],color='red'),  # uses panel 0 by default\n",
    "        mpf.make_addplot(df[PLOT_FROM:PLOT_TO][COL_m],color='orange'),  # uses panel 0 by default\n",
    "        mpf.make_addplot(df[PLOT_FROM:PLOT_TO][COL_s],color='green'),\n",
    "        mpf.make_addplot(df[PLOT_FROM:PLOT_TO]['plot_trade'],type='scatter', marker=6, color=\"b\")\n",
    "      ]\n",
    "\n",
    "mpf.plot(df[PLOT_FROM:PLOT_TO],\n",
    "         volume=False, \n",
    "         type='hollow_and_filled', \n",
    "         tight_layout=True, \n",
    "         style='yahoo', \n",
    "         figratio=(14,5), addplot=ap4, title=f'{SYMBOL}/Trade Entry-Exit Events')"
   ]
  },
  {
   "cell_type": "markdown",
   "metadata": {},
   "source": [
    "#### Calculate Profit [pips]"
   ]
  },
  {
   "cell_type": "code",
   "execution_count": null,
   "metadata": {
    "ExecuteTime": {
     "end_time": "2022-03-25T21:35:39.180162Z",
     "start_time": "2022-03-25T21:35:39.167163Z"
    }
   },
   "outputs": [],
   "source": [
    "def profit_report_col(df, column='net_profit'):\n",
    "\n",
    "        # NON FILTERED\n",
    "        _mask_tot = df[column] !=0\n",
    "        _tot_trades = len(df[_mask_tot])\n",
    "\n",
    "        _mask_win_trades = df[column] > 0\n",
    "        _tot_win_trades = len(df[_mask_win_trades])\n",
    "        _tot_win_pft = df[_mask_win_trades][column].sum().round(2)\n",
    "\n",
    "        _mask_los_trades = df[column] < 0\n",
    "        _tot_los_trades = len(df[_mask_los_trades])\n",
    "        _tot_loss_pft = df[_mask_los_trades][column].sum().round(2)\n",
    "\n",
    "        _total_pft = df[column].sum().round(2)\n",
    "        _mean_pft = df[column].mean().round(2)\n",
    "        _std_pft = df[column].std().round(2)\n",
    "        \n",
    "        _median_pft = df[column].median().round(2)\n",
    "        _mode_pft = df[column].mode().round(2)\n",
    "        \n",
    "        _skew_pft = df[column].skew().round(2)\n",
    "\n",
    "        _report = dict()\n",
    "        _report['column'] = column\n",
    "        _report['tot_trades'] = _tot_trades\n",
    "        _report['tot_win_trades'] = _tot_win_trades\n",
    "        _report['tot_losing_trades'] = _tot_los_trades\n",
    "        _report['net_profit'] = _total_pft\n",
    "        _report['win_profit'] = _tot_win_pft\n",
    "        _report['losing_profit'] = _tot_loss_pft\n",
    "        _report['avg_profit'] = _mean_pft \n",
    "        _report['std_profit'] = _std_pft \n",
    "        _report['median_profit'] = _median_pft\n",
    "        _report['mode_profit'] = _mode_pft[0]\n",
    "        _report['skew_profit'] = _skew_pft\n",
    "\n",
    "        return _report"
   ]
  },
  {
   "cell_type": "code",
   "execution_count": null,
   "metadata": {
    "ExecuteTime": {
     "end_time": "2022-03-25T21:35:39.228164Z",
     "start_time": "2022-03-25T21:35:39.182161Z"
    }
   },
   "outputs": [],
   "source": [
    "df['date'] = df.index\n",
    "mask_trade = df['trade_id']>0\n",
    "df.loc[mask_trade, 'gross_profit'] = (df.loc[mask_trade, 'Close'] - df.loc[mask_trade, 'Open'] )*PIP_FACTOR\n",
    "df_trades_pft = df[['trade_id', 'gross_profit']].groupby(by='trade_id').sum()\n",
    "df_trades_date = df[['trade_id', 'date']].groupby(by='trade_id').min()"
   ]
  },
  {
   "cell_type": "code",
   "execution_count": null,
   "metadata": {
    "ExecuteTime": {
     "end_time": "2022-03-25T21:35:39.259168Z",
     "start_time": "2022-03-25T21:35:39.231166Z"
    }
   },
   "outputs": [],
   "source": [
    "df[['trade', 'trade_id', 'gross_profit']][2190:2200]"
   ]
  },
  {
   "cell_type": "code",
   "execution_count": null,
   "metadata": {
    "ExecuteTime": {
     "end_time": "2022-03-25T21:35:39.275172Z",
     "start_time": "2022-03-25T21:35:39.261169Z"
    }
   },
   "outputs": [],
   "source": [
    "df_trades_pft"
   ]
  },
  {
   "cell_type": "code",
   "execution_count": null,
   "metadata": {
    "ExecuteTime": {
     "end_time": "2022-03-25T21:35:39.291172Z",
     "start_time": "2022-03-25T21:35:39.278172Z"
    }
   },
   "outputs": [],
   "source": [
    "df_trades = pd.merge(df_trades_pft, df_trades_date, how='inner', left_index=True, right_index=True)\n",
    "df_trades.set_index('date', inplace=True)"
   ]
  },
  {
   "cell_type": "code",
   "execution_count": null,
   "metadata": {
    "ExecuteTime": {
     "end_time": "2022-03-25T21:35:40.035230Z",
     "start_time": "2022-03-25T21:35:39.293173Z"
    }
   },
   "outputs": [],
   "source": [
    "df_trades['net_profit'] = df_trades['gross_profit'] - TRADE_COST\n",
    "df_trades[['net_profit', 'gross_profit']].cumsum().plot(figsize=(15,5))\n",
    "plt.show()"
   ]
  },
  {
   "cell_type": "code",
   "execution_count": null,
   "metadata": {
    "ExecuteTime": {
     "end_time": "2022-03-25T21:35:40.051229Z",
     "start_time": "2022-03-25T21:35:40.038231Z"
    }
   },
   "outputs": [],
   "source": [
    "df_trades.head(5)"
   ]
  },
  {
   "cell_type": "code",
   "execution_count": null,
   "metadata": {
    "ExecuteTime": {
     "end_time": "2022-03-25T21:35:40.083235Z",
     "start_time": "2022-03-25T21:35:40.054230Z"
    }
   },
   "outputs": [],
   "source": [
    "report = profit_report_col(df_trades)\n",
    "for k  in report:\n",
    "    print(k, '\\t  :', report[k])"
   ]
  },
  {
   "cell_type": "code",
   "execution_count": null,
   "metadata": {
    "ExecuteTime": {
     "end_time": "2022-03-25T21:35:40.478262Z",
     "start_time": "2022-03-25T21:35:40.087237Z"
    }
   },
   "outputs": [],
   "source": [
    "mean_x = report['avg_profit']\n",
    "median_x = report['median_profit']\n",
    "\n",
    "fig, axis=plt.subplots(1,1, figsize=(10,4))\n",
    "df_trades['net_profit'].hist(grid=False, bins=50)\n",
    "plt.plot([mean_x, mean_x], [0, 70], color='g', linestyle='--', label='mean')\n",
    "plt.plot([median_x, median_x], [0, 70], color='orange', linestyle='--', label='median')\n",
    "plt.legend()\n",
    "plt.title('Profit distribution', size=16)\n",
    "plt.show()"
   ]
  },
  {
   "cell_type": "markdown",
   "metadata": {},
   "source": [
    "**Observations**\n",
    "\n",
    "Even though the strategy is profitable for the time range back-tested, it is not consistent.\n",
    "\n",
    "Mainly relies on outliers, which pull the mean (expected profit) to the positive side, but the median (less sensitive to outliers) is negative, showing that the bulk of the trades are in the negative side. A good strategy would have both statistics in the positive side.\n",
    "\n",
    "All this is confirmed by skewness which is positive indicating a right tailed distribution, which is not good considering median below zero.\n",
    "\n",
    "What if outliers are removed?. The hypothesis is that this strategy relies only on outliers, and removing them would turn this strategy into a losing one in average, meaning that the average profit should shift to the negative side."
   ]
  },
  {
   "cell_type": "markdown",
   "metadata": {},
   "source": [
    "## Removing Outliers"
   ]
  },
  {
   "cell_type": "markdown",
   "metadata": {},
   "source": [
    "There are many ways to remove outliers, for example using standard deviation, or trimming the extremes. The later will used here. So I will remove both, the bottom and top 10% of the profits range.\n",
    "\n",
    "For that purpose I will use pandas quantile function, which returns the value at which a specific quantile is located.\n",
    "\n",
    "In this case the following range will be selected.\n",
    "\n",
    "$Q_{10} <= profit_{net} <= Q_{90}$"
   ]
  },
  {
   "cell_type": "code",
   "execution_count": null,
   "metadata": {},
   "outputs": [],
   "source": [
    "mask_10_off = (df_trades['net_profit'] >= df_trades['net_profit'].quantile(.1)) & (df_trades['net_profit'] <= df_trades['net_profit'].quantile(.95))"
   ]
  },
  {
   "cell_type": "code",
   "execution_count": null,
   "metadata": {},
   "outputs": [],
   "source": [
    "mean_x = df_trades[mask_10_off]['net_profit'].mean()\n",
    "median_x = df_trades[mask_10_off]['net_profit'].median()\n",
    "\n",
    "fig, axis=plt.subplots(1,1, figsize=(10,4))\n",
    "df_trades.loc[mask_10_off, 'net_profit'].hist(grid=False, bins=50)\n",
    "plt.plot([mean_x, mean_x], [0, 70], color='g', linestyle='--', label='mean')\n",
    "plt.plot([median_x, median_x], [0, 70], color='orange', linestyle='--', label='median')\n",
    "plt.legend()\n",
    "plt.title('Profit distribution (10% trimmed profits)', size=16)\n",
    "plt.show()\n",
    "\n",
    "print(\"Average Profit \", mean_x)\n",
    "print(\"Profit median\", median_x)"
   ]
  },
  {
   "cell_type": "markdown",
   "metadata": {},
   "source": [
    "As expeccted, the mean has moved to the negative side, becuase of the removing of outliers, meaning that this strategy is no longer consistently profitable."
   ]
  },
  {
   "cell_type": "code",
   "execution_count": null,
   "metadata": {},
   "outputs": [],
   "source": [
    "\n",
    "df_trades[mask_10_off][['net_profit', 'gross_profit']].cumsum().plot(figsize=(15,5))\n",
    "plt.show()"
   ]
  },
  {
   "cell_type": "markdown",
   "metadata": {},
   "source": [
    "Clearly, from cumulative profit chart, is possible to verify that removed outliers has impacted the strategy perofrmance, but the question that remains is: is this impact staisticaly significant?"
   ]
  },
  {
   "cell_type": "markdown",
   "metadata": {},
   "source": [
    "## Next: A/B testing on average profit change"
   ]
  },
  {
   "cell_type": "code",
   "execution_count": null,
   "metadata": {},
   "outputs": [],
   "source": []
  }
 ],
 "metadata": {
  "kernelspec": {
   "display_name": "Python 3 (ipykernel)",
   "language": "python",
   "name": "python3"
  },
  "language_info": {
   "codemirror_mode": {
    "name": "ipython",
    "version": 3
   },
   "file_extension": ".py",
   "mimetype": "text/x-python",
   "name": "python",
   "nbconvert_exporter": "python",
   "pygments_lexer": "ipython3",
   "version": "3.10.4"
  },
  "toc": {
   "base_numbering": 1,
   "nav_menu": {},
   "number_sections": true,
   "sideBar": true,
   "skip_h1_title": false,
   "title_cell": "Table of Contents",
   "title_sidebar": "Contents",
   "toc_cell": false,
   "toc_position": {},
   "toc_section_display": true,
   "toc_window_display": true
  }
 },
 "nbformat": 4,
 "nbformat_minor": 4
}
